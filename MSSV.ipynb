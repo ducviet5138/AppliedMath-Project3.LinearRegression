{
 "cells": [
  {
   "cell_type": "markdown",
   "metadata": {},
   "source": [
    "# <center>Đồ án 3: Linear Regression</center>"
   ]
  },
  {
   "cell_type": "markdown",
   "metadata": {},
   "source": [
    "# Thông tin sinh viên\n",
    "\n",
    "- Họ và tên: \n",
    "- MSSV: \n",
    "- Lớp: "
   ]
  },
  {
   "cell_type": "markdown",
   "metadata": {},
   "source": [
    "# Import"
   ]
  },
  {
   "cell_type": "code",
   "execution_count": 120,
   "metadata": {},
   "outputs": [],
   "source": [
    "import pandas as pd\n",
    "import numpy as np\n",
    "\n",
    "# Import thêm dữ thư viện nếu cần"
   ]
  },
  {
   "cell_type": "markdown",
   "metadata": {},
   "source": [
    "# Đọc dữ liệu"
   ]
  },
  {
   "cell_type": "code",
   "execution_count": 121,
   "metadata": {},
   "outputs": [],
   "source": [
    "# Đọc dữ liệu bằng pandas\n",
    "train = pd.read_csv('train.csv')\n",
    "test = pd.read_csv('test.csv')\n",
    "\n",
    "# Lấy các đặc trưng X và giá trị mục tiêu y cho các tập huấn luyện (train) và kiểm tra (test)\n",
    "X_train = train.iloc[:, :-1]    # Dataframe (chứa các đặc trưng huấn luyện)\n",
    "y_train = train.iloc[:, -1]     # Series    (chứa 1 giá trị mục tiêu kiểm tra)\n",
    "\n",
    "X_test = test.iloc[:, :-1]      # Dataframe (chứa các đặc trưng kiểm tra)\n",
    "y_test = test.iloc[:, -1]       # Series    (chứa 1 giá trị mục tiêu kiểm tra)\n",
    "\n",
    "# Sinh viên có thể sử dụng các khác nếu cần"
   ]
  },
  {
   "cell_type": "markdown",
   "metadata": {},
   "source": [
    "- Chuyển dữ liệu thành `numpy array`:"
   ]
  },
  {
   "cell_type": "code",
   "execution_count": 122,
   "metadata": {},
   "outputs": [],
   "source": [
    "X_train_np = X_train.to_numpy()\n",
    "y_train_np = y_train.to_numpy()\n",
    "\n",
    "X_test_np = X_test.to_numpy()\n",
    "y_test_np = y_test.to_numpy()"
   ]
  },
  {
   "cell_type": "markdown",
   "metadata": {},
   "source": [
    "# Cài đặt hàm"
   ]
  },
  {
   "cell_type": "code",
   "execution_count": 123,
   "metadata": {},
   "outputs": [],
   "source": [
    "# Cài đặt các hàm cần thiết ở đây\n",
    "\n",
    "# Tìm giá trọng số của w\n",
    "def find_weight(X, y):\n",
    "    return np.round(np.linalg.inv(X.T @ X) @ X.T @ y, 3)\n",
    "\n",
    "# Tính giá trị dự đoán của y\n",
    "def calc_y_predict(X, w):\n",
    "    return np.sum(X * w.T, axis = 1)\n",
    "    \n",
    "# Tính độ lỗi MAE giữa các giá trị dự đoán và giá trị thực tế\n",
    "def MAE(y_predict, y_real):\n",
    "    return np.mean(np.abs(y_predict - y_real))\n",
    "\n",
    "def create_result_table(feature, MAE):\n",
    "    return pd.DataFrame(zip(feature, MAE), columns = ['Feature', 'MAE Average'])"
   ]
  },
  {
   "cell_type": "markdown",
   "metadata": {},
   "source": [
    "- Tìm mô hình tốt nhất:"
   ]
  },
  {
   "cell_type": "code",
   "execution_count": 124,
   "metadata": {},
   "outputs": [],
   "source": [
    "# Tìm mô hình tốt nhất \n",
    "# table là dataframe\n",
    "def find_best_model(table, feature, clusters = 10):\n",
    "    # Lấy thêm cột 'Salary' để giữ giá trị y khi xáo trộn\n",
    "    feature.append(\"Salary\")\n",
    "\n",
    "    # Lấy bảng dữ liệu sau khi được xáo trộn các dòng\n",
    "    table_np = table.loc[:, feature].sample(frac = 1).to_numpy()\n",
    "    \n",
    "    # Xóa 'Salary' ra khỏi các đặc trưng\n",
    "    feature.remove(\"Salary\")\n",
    "\n",
    "    # Chia bảng dữ liệu thành các nhóm\n",
    "    table_cluster = np.array_split(table_np, clusters)\n",
    "\n",
    "    # Tìm min MAE trung bình của mỗi nhóm\n",
    "    MAE_avg = np.zeros(len(feature))\n",
    "\n",
    "    for c in range(clusters):\n",
    "        for f in range(len(feature)):\n",
    "            w_temporary = find_weight(table_cluster[c][:, f, None], table_cluster[c][:, -1, None])\n",
    "\n",
    "            for i in range(clusters):\n",
    "                if (c != i):\n",
    "                    MAE_avg[f] += MAE(calc_y_predict(table_cluster[i][:, f, None], w_temporary), table_cluster[i][:, -1])\n",
    "\n",
    "    MAE_avg /= clusters * (clusters - 1)\n",
    "    return np.argmin(MAE_avg), MAE_avg"
   ]
  },
  {
   "cell_type": "markdown",
   "metadata": {},
   "source": [
    "# Yêu cầu 1a: Sử dụng toàn bộ 11 đặc trưng đầu tiên `Gender`, `10percentage`, `12percentage`, `CollegeTier`, `Degree`, `collegeGPA`, `CollegeCityTier`, `English`, `Logical`, `Quant`, `Domain` (2 điểm) "
   ]
  },
  {
   "cell_type": "code",
   "execution_count": 125,
   "metadata": {},
   "outputs": [],
   "source": [
    "# Phần code cho yêu cầu 1a\n",
    "X_train_1a = X_train_np[:, :11]\n",
    "w = find_weight(X_train_1a, y_train_np)"
   ]
  },
  {
   "cell_type": "code",
   "execution_count": 126,
   "metadata": {},
   "outputs": [
    {
     "name": "stdout",
     "output_type": "stream",
     "text": [
      "Weight: [-22756.513    804.503   1294.655 -91781.898  23182.389   1437.549\n",
      "  -8570.662    147.858    152.888    117.222  34552.286]\n",
      "MAE: 104863.71390646267\n"
     ]
    }
   ],
   "source": [
    "# Gọi hàm MAE (tự cài đặt hoặc từ thư viện) trên tập kiểm tra\n",
    "X_test_1a = X_test_np[:, :11]\n",
    "y_predict = calc_y_predict(X_test_1a, w)\n",
    "print(\"Weight:\", w)\n",
    "print(\"MAE:\", MAE(y_predict, y_test))"
   ]
  },
  {
   "cell_type": "markdown",
   "metadata": {},
   "source": [
    "Công thức hồi quy (phần trọng số làm tròn đến 3 chữ số thập phân, ví dụ 0.012345 $\\to$ 0.012)\n",
    "\n",
    "\n",
    "\\begin{aligned}\n",
    "\\text{Salary} = & -22756.513 \\times Gender &+& 804.503 \\times 10percentage &+& 1294.655 \\times 12percentage \\\\\n",
    "                & + -91781.898 \\times CollegeTier &+& 23182.389 \\times Degree &+& 1437.549 \\times collegeGPA \\\\\n",
    "                & + -8570.662 \\times CollegeCityTier &+& 147.858 \\times English &+& 152.888 \\times Logical \\\\\n",
    "                & + 117.222 \\times Quant &+& 34552.286 \\times Domain\n",
    "\\end{aligned}"
   ]
  },
  {
   "cell_type": "markdown",
   "metadata": {},
   "source": [
    "# Yêu cầu 1b: Xây dựng mô hình sử dụng duy nhất 1 đặc trưng tính cách với các đặc trưng tính cách gồm `conscientiousness`, `agreeableness`, `extraversion`, `nueroticism`, `openess_to_experience`, tìm mô hình cho kết quả tốt nhất (1 điểm)"
   ]
  },
  {
   "cell_type": "markdown",
   "metadata": {},
   "source": [
    "Lưu ý: khi sử dụng cross-validation, sinh viên cần xáo trộn dữ liệu 1 lần duy nhất và thực hiện trên toàn bộ đặc trưng"
   ]
  },
  {
   "cell_type": "code",
   "execution_count": 127,
   "metadata": {},
   "outputs": [
    {
     "name": "stdout",
     "output_type": "stream",
     "text": [
      "                 Feature    MAE Average\n",
      "0      conscientiousness  306173.854695\n",
      "1          agreeableness  300501.896094\n",
      "2           extraversion  306936.905309\n",
      "3            nueroticism  299662.748414\n",
      "4  openess_to_experience  303031.044782\n",
      "Best feature: nueroticism\n"
     ]
    }
   ],
   "source": [
    "# Phần code cho yêu cầu 1b\n",
    "# Tìm ra đặc trưng tốt nhất\n",
    "# In ra các kết quả cross-validation như yêu cầu\n",
    "\n",
    "feature = [\"conscientiousness\", \"agreeableness\", \"extraversion\", \"nueroticism\", \"openess_to_experience\"]\n",
    "\n",
    "best_personality_feature_index, MAE_avg = find_best_model(train, feature)\n",
    "best_personality_feature = feature[best_personality_feature_index]\n",
    "\n",
    "print(create_result_table(feature, MAE_avg))\n",
    "print(\"Best feature:\", best_personality_feature)"
   ]
  },
  {
   "cell_type": "code",
   "execution_count": 128,
   "metadata": {},
   "outputs": [],
   "source": [
    "# Huấn luyện lại mô hình best_personality_feature_model với đặc trưng tốt nhất trên toàn bộ tập huấn luyện\n",
    "def best_personality_feature_model(table, best_personality_feature):\n",
    "    X = table.loc[:, best_personality_feature].to_numpy()\n",
    "    y = table.iloc[:, -1].to_numpy()\n",
    "    return find_weight(X[:, None], y[:, None])"
   ]
  },
  {
   "cell_type": "code",
   "execution_count": 129,
   "metadata": {},
   "outputs": [
    {
     "name": "stdout",
     "output_type": "stream",
     "text": [
      "Weight: [[-56546.304]]\n",
      "MAE: 291019.6931941854\n"
     ]
    }
   ],
   "source": [
    "# Gọi hàm MAE (tự cài đặt hoặc từ thư viện) trên tập kiểm tra với mô hình best_personality_feature_model\n",
    "w = best_personality_feature_model(train, best_personality_feature)\n",
    "y_predict = calc_y_predict(test.loc[:, best_personality_feature].to_numpy()[:, None], w)\n",
    "print(\"Weight:\", w)\n",
    "print(\"MAE:\", MAE(y_predict, y_test_np))"
   ]
  },
  {
   "cell_type": "markdown",
   "metadata": {},
   "source": [
    "Công thức hồi quy (phần trọng số làm tròn đến 3 chữ số thập phân, ví dụ 0.012345 $\\to$ 0.012)\n",
    "\n",
    "$$\\text{Salary} = -56546.304 \\times nueroticism$$"
   ]
  },
  {
   "cell_type": "markdown",
   "metadata": {},
   "source": [
    "# Yêu cầu 1c: Xây dựng mô hình sử dụng duy nhất 1 đặc trưng `English`, `Logical`, `Quant`, tìm mô hình cho kết quả tốt nhất (1 điểm)"
   ]
  },
  {
   "cell_type": "markdown",
   "metadata": {},
   "source": [
    "Lưu ý: khi sử dụng cross-validation, sinh viên cần xáo trộn dữ liệu 1 lần duy nhất và thực hiện trên toàn bộ đặc trưng"
   ]
  },
  {
   "cell_type": "code",
   "execution_count": 130,
   "metadata": {},
   "outputs": [
    {
     "name": "stdout",
     "output_type": "stream",
     "text": [
      "   Feature    MAE Average\n",
      "0  English  122135.616652\n",
      "1  Logical  120344.293410\n",
      "2    Quant  118419.039085\n",
      "Best feature: Quant\n"
     ]
    }
   ],
   "source": [
    "# Phần code cho yêu cầu 1c\n",
    "# Tìm ra đặc trưng tốt nhất\n",
    "# In ra các kết quả cross-validation như yêu cầu\n",
    "\n",
    "feature = [\"English\", \"Logical\", \"Quant\"]\n",
    "\n",
    "best_personality_feature_index, MAE_avg = find_best_model(train, feature)\n",
    "best_personality_feature = feature[best_personality_feature_index]\n",
    "\n",
    "print(create_result_table(feature, MAE_avg))\n",
    "print(\"Best feature:\", best_personality_feature)"
   ]
  },
  {
   "cell_type": "code",
   "execution_count": 131,
   "metadata": {},
   "outputs": [],
   "source": [
    "# Huấn luyện lại mô hình best_skill_feature_model với đặc trưng tốt nhất trên toàn bộ tập huấn luyện\n",
    "def best_skill_feature_model(table, best_personality_feature):\n",
    "    X = table.loc[:, best_personality_feature].to_numpy()\n",
    "    y = table.iloc[:, -1].to_numpy()\n",
    "    return find_weight(X[:, None], y[:, None])"
   ]
  },
  {
   "cell_type": "code",
   "execution_count": 132,
   "metadata": {},
   "outputs": [
    {
     "name": "stdout",
     "output_type": "stream",
     "text": [
      "Weight: [[585.895]]\n",
      "MAE: 106819.53989333333\n"
     ]
    }
   ],
   "source": [
    "# Gọi hàm MAE (tự cài đặt hoặc từ thư viện) trên tập kiểm tra với mô hình best_skill_feature_model\n",
    "w = best_personality_feature_model(train, best_personality_feature)\n",
    "y_predict = calc_y_predict(test.loc[:, best_personality_feature].to_numpy()[:, None], w)\n",
    "print(\"Weight:\", w)\n",
    "print(\"MAE:\", MAE(y_predict, y_test_np))"
   ]
  },
  {
   "cell_type": "markdown",
   "metadata": {},
   "source": [
    "Công thức hồi quy (phần trọng số làm tròn đến 3 chữ số thập phân, ví dụ 0.012345 $\\to$ 0.012)\n",
    "\n",
    "$$\\text{Salary} = 585.895 \\times Quant$$"
   ]
  },
  {
   "cell_type": "markdown",
   "metadata": {},
   "source": [
    "# Yêu cầu 1d: Sinh viên tự xây dựng mô hình, tìm mô hình cho kết quả tốt nhất (3 điểm)"
   ]
  },
  {
   "cell_type": "markdown",
   "metadata": {},
   "source": [
    "Lưu ý: khi sử dụng cross-validation, sinh viên cần xáo trộn dữ liệu 1 lần duy nhất và thực hiện trên toàn bộ $m$ mô hình mà sinh viên thiết kế"
   ]
  },
  {
   "cell_type": "markdown",
   "metadata": {},
   "source": [
    "## Tìm mô hình"
   ]
  },
  {
   "cell_type": "code",
   "execution_count": 133,
   "metadata": {},
   "outputs": [],
   "source": [
    "# Trình bày các phần tìm ra mô hình\n",
    "\n",
    "# Mô hình 1: Brute Force với mũ là 2\n",
    "model1 = [\"10percentage\", \"12percentage\", \"CollegeTier\", \"collegeGPA\", \"CollegeCityTier\", \"Quant\", \"Domain\", \"ComputerProgramming\", \"ElectronicsAndSemicon\", \"ComputerScience\", \"ElectricalEngg\", \"CivilEngg\", \"conscientiousness\", \"extraversion\", \"nueroticism\", \"openess_to_experience\"]\n",
    "expo1 = 2\n",
    "\n"
   ]
  },
  {
   "cell_type": "markdown",
   "metadata": {},
   "source": [
    "## Thử nghiệm, so sánh các mô hình"
   ]
  },
  {
   "cell_type": "code",
   "execution_count": 134,
   "metadata": {},
   "outputs": [
    {
     "name": "stdout",
     "output_type": "stream",
     "text": [
      "['10percentage', '12percentage', 'CollegeTier', 'collegeGPA', 'CollegeCityTier', 'Quant', 'Domain', 'ComputerProgramming', 'ElectronicsAndSemicon', 'ComputerScience', 'ElectricalEngg', 'CivilEngg', 'conscientiousness', 'extraversion', 'nueroticism', 'openess_to_experience']\n"
     ]
    }
   ],
   "source": [
    "# Phần code cho yêu cầu 1d\n",
    "# Tìm ra mô hình tốt nhất (tự thiết kế bởi sinh viên)\n",
    "# In ra các kết quả cross-validation như yêu cầu\n",
    "\n",
    "flag = np.array([0, 1, 1, 1, 0, 1, 1, 0, 0, 1, 1, 1, 1, 1, 0, 1, 0, 1, 1, 0, 1, 1, 1])\n",
    "\n",
    "name = list(train.columns)\n",
    "\n",
    "model_name = []\n",
    "for i in range(len(flag)):\n",
    "    if flag[i] == 1:\n",
    "        model_name.append(name[i])\n",
    "print(model_name)"
   ]
  },
  {
   "cell_type": "code",
   "execution_count": 135,
   "metadata": {},
   "outputs": [],
   "source": [
    "# Huấn luyện lại mô hình my_best_model trên toàn bộ tập huấn luyện\n"
   ]
  },
  {
   "cell_type": "code",
   "execution_count": 136,
   "metadata": {},
   "outputs": [],
   "source": [
    "# Gọi hàm MAE (tự cài đặt hoặc từ thư viện) trên tập kiểm tra với mô hình my_best_model\n"
   ]
  },
  {
   "cell_type": "markdown",
   "metadata": {},
   "source": [
    "Công thức hồi quy (phần trọng số làm tròn đến 3 chữ số thập phân, ví dụ 0.012345 $\\to$ 0.012)\n",
    "\n",
    "$$\\text{Salary} = ...$$"
   ]
  }
 ],
 "metadata": {
  "kernelspec": {
   "display_name": "Python 3 (ipykernel)",
   "language": "python",
   "name": "python3"
  },
  "language_info": {
   "codemirror_mode": {
    "name": "ipython",
    "version": 3
   },
   "file_extension": ".py",
   "mimetype": "text/x-python",
   "name": "python",
   "nbconvert_exporter": "python",
   "pygments_lexer": "ipython3",
   "version": "3.10.12"
  },
  "orig_nbformat": 4,
  "vscode": {
   "interpreter": {
    "hash": "15af99fd1a1a3f0a3416ea421564e792a8676a13670c2eed127d89ab0518a27b"
   }
  }
 },
 "nbformat": 4,
 "nbformat_minor": 2
}
