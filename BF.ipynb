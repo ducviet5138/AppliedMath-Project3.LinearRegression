{
 "cells": [
  {
   "cell_type": "markdown",
   "metadata": {},
   "source": [
    "# 0. Import lib"
   ]
  },
  {
   "cell_type": "code",
   "execution_count": null,
   "metadata": {},
   "outputs": [],
   "source": [
    "import pandas as pd\n",
    "import numpy as np"
   ]
  },
  {
   "cell_type": "markdown",
   "metadata": {},
   "source": [
    "# 1. Read data from input file"
   ]
  },
  {
   "cell_type": "code",
   "execution_count": null,
   "metadata": {},
   "outputs": [],
   "source": [
    "# Đọc dữ liệu bằng pandas\n",
    "train = pd.read_csv('train.csv')\n",
    "test = pd.read_csv('test.csv')\n",
    "\n",
    "# Lấy các đặc trưng X và giá trị mục tiêu y cho các tập huấn luyện (train) và kiểm tra (test)\n",
    "X_train = train.iloc[:, :-1]    # Dataframe (chứa các đặc trưng huấn luyện)\n",
    "y_train = train.iloc[:, -1]     # Series    (chứa 1 giá trị mục tiêu kiểm tra)\n",
    "\n",
    "X_test = test.iloc[:, :-1]      # Dataframe (chứa các đặc trưng kiểm tra)\n",
    "y_test = test.iloc[:, -1]       # Series    (chứa 1 giá trị mục tiêu kiểm tra)"
   ]
  },
  {
   "cell_type": "markdown",
   "metadata": {},
   "source": [
    "# 2. Predefine function"
   ]
  },
  {
   "cell_type": "code",
   "execution_count": null,
   "metadata": {},
   "outputs": [],
   "source": [
    "def find_weight(X, y):\n",
    "    return np.round(np.array(np.linalg.inv(X.T @ X) @ X.T @ y), 3)\n",
    "    \n",
    "def MAE(y_predict, y_real):\n",
    "    return np.mean(np.abs(y_predict - y_real))"
   ]
  },
  {
   "cell_type": "code",
   "execution_count": null,
   "metadata": {},
   "outputs": [],
   "source": [
    "def next_state(state):\n",
    "    for i in range(len(state)):\n",
    "        if state[i] == 0:\n",
    "            state[i] = 1\n",
    "            break\n",
    "        else:\n",
    "            state[i] = 0\n",
    "    return state"
   ]
  },
  {
   "cell_type": "markdown",
   "metadata": {},
   "source": [
    "# 3. Choose suitable function"
   ]
  },
  {
   "cell_type": "code",
   "execution_count": null,
   "metadata": {},
   "outputs": [],
   "source": [
    "with open(\"saved_result.txt\", \"r\") as f:\n",
    "    MAE_min = float(f.readline())\n",
    "    state = np.fromstring(f.readline()[1:-1], dtype = np.int16, sep = \" \")\n",
    "\n",
    "res_state = None\n",
    "stop_state = np.ones((23, ) , dtype = np.int16)\n",
    "\n",
    "X_train_np = X_train.to_numpy()\n",
    "y_train_np = y_train.to_numpy()\n",
    "\n",
    "X_test_np = X_test.to_numpy()\n",
    "y_test_np = y_test.to_numpy()\n",
    "\n",
    "while (1):\n",
    "    next_state(state)\n",
    "    index = np.where(state == 1)[0]\n",
    "    \n",
    "    w = find_weight(X_train_np[:, index], y_train_np)\n",
    "    MAE_value = MAE(np.sum(X_test_np[:, index] * w.T, axis = 1) , y_test_np)\n",
    "    \n",
    "    if MAE_value < MAE_min:\n",
    "        MAE_min = MAE_value\n",
    "        res_state = state.copy()\n",
    "\n",
    "        with open(\"saved_result.txt\", \"w\") as f:\n",
    "            f.write(str(MAE_min) + \"\\n\")\n",
    "            f.write(np.array2string(res_state, separator = \" \"))\n",
    "\n",
    "        print(\"Found a better state: \", res_state)\n",
    "    \n",
    "    if np.array_equal(state, stop_state):\n",
    "        break"
   ]
  }
 ],
 "metadata": {
  "kernelspec": {
   "display_name": "Python 3",
   "language": "python",
   "name": "python3"
  },
  "language_info": {
   "codemirror_mode": {
    "name": "ipython",
    "version": 3
   },
   "file_extension": ".py",
   "mimetype": "text/x-python",
   "name": "python",
   "nbconvert_exporter": "python",
   "pygments_lexer": "ipython3",
   "version": "3.10.12"
  },
  "orig_nbformat": 4
 },
 "nbformat": 4,
 "nbformat_minor": 2
}
