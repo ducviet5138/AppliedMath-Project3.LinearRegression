{
 "cells": [
  {
   "cell_type": "markdown",
   "metadata": {},
   "source": [
    "- Import thư viện:"
   ]
  },
  {
   "cell_type": "code",
   "execution_count": 21,
   "metadata": {},
   "outputs": [],
   "source": [
    "import pandas as pd\n",
    "import numpy as np\n",
    "import matplotlib.pyplot as plt"
   ]
  },
  {
   "cell_type": "markdown",
   "metadata": {},
   "source": [
    "- Đọc dữ liệu"
   ]
  },
  {
   "cell_type": "code",
   "execution_count": 22,
   "metadata": {},
   "outputs": [],
   "source": [
    "# Đọc dữ liệu bằng pandas\n",
    "train = pd.read_csv('train.csv')\n",
    "test = pd.read_csv('test.csv')\n",
    "\n",
    "# Lấy các đặc trưng X và giá trị mục tiêu y cho các tập huấn luyện (train) và kiểm tra (test)\n",
    "X_train = train.iloc[:, :-1]    # Dataframe (chứa các đặc trưng huấn luyện)\n",
    "y_train = train.iloc[:, -1]     # Series    (chứa 1 giá trị mục tiêu kiểm tra)\n",
    "\n",
    "X_test = test.iloc[:, :-1]      # Dataframe (chứa các đặc trưng kiểm tra)\n",
    "y_test = test.iloc[:, -1]       # Series    (chứa 1 giá trị mục tiêu kiểm tra)"
   ]
  },
  {
   "cell_type": "markdown",
   "metadata": {},
   "source": [
    "- In dữ liệu:"
   ]
  },
  {
   "cell_type": "code",
   "execution_count": 23,
   "metadata": {},
   "outputs": [],
   "source": [
    "# Print each feature with y\n",
    "def plot_data(x, y, index):\n",
    "    feature = list(train.columns)\n",
    "    plt.scatter(y, x, color='b', marker='o')\n",
    "  \n",
    "    plt.xlabel('Salary')\n",
    "    plt.ylabel(feature[index])\n",
    "  \n",
    "    plt.grid()\n",
    "    plt.show()    "
   ]
  },
  {
   "cell_type": "code",
   "execution_count": 24,
   "metadata": {},
   "outputs": [
    {
     "ename": "IndexError",
     "evalue": "too many indices for array: array is 1-dimensional, but 2 were indexed",
     "output_type": "error",
     "traceback": [
      "\u001b[0;31m---------------------------------------------------------------------------\u001b[0m",
      "\u001b[0;31mIndexError\u001b[0m                                Traceback (most recent call last)",
      "Cell \u001b[0;32mIn[24], line 13\u001b[0m\n\u001b[1;32m     11\u001b[0m \u001b[39m# Drop outliers\u001b[39;00m\n\u001b[1;32m     12\u001b[0m X_train_np \u001b[39m=\u001b[39m X_train_np[:\u001b[39mint\u001b[39m(\u001b[39m0.95\u001b[39m \u001b[39m*\u001b[39m X_train_np\u001b[39m.\u001b[39mshape[\u001b[39m0\u001b[39m]), :]\n\u001b[0;32m---> 13\u001b[0m y_train_np \u001b[39m=\u001b[39m y_train_np[:\u001b[39mint\u001b[39;49m(\u001b[39m0.95\u001b[39;49m \u001b[39m*\u001b[39;49m y_train_np\u001b[39m.\u001b[39;49mshape[\u001b[39m0\u001b[39;49m]), :]\n\u001b[1;32m     16\u001b[0m \u001b[39mfor\u001b[39;00m f \u001b[39min\u001b[39;00m \u001b[39mrange\u001b[39m(\u001b[39m0\u001b[39m, X_train_np\u001b[39m.\u001b[39mshape[\u001b[39m1\u001b[39m]):\n\u001b[1;32m     17\u001b[0m     plot_data(X_train_np[:,f], y_train_np, f)\n",
      "\u001b[0;31mIndexError\u001b[0m: too many indices for array: array is 1-dimensional, but 2 were indexed"
     ]
    }
   ],
   "source": [
    "X_train_np = X_train.to_numpy()\n",
    "y_train_np = y_train.to_numpy()\n",
    "\n",
    "# Sort by salary\n",
    "train_np = train.to_numpy()\n",
    "train_np = train_np[:, train_np[-1, :].argsort()]\n",
    "\n",
    "X_train_np = train_np[:, :-1]\n",
    "y_train_np = train_np[:, -1]\n",
    "\n",
    "# Drop outliers\n",
    "X_train_np = X_train_np[:int(0.95 * X_train_np.shape[0]), :]\n",
    "y_train_np = y_train_np[:int(0.95 * y_train_np.shape[0])]\n",
    "\n",
    "\n",
    "for f in range(0, X_train_np.shape[1]):\n",
    "    plot_data(X_train_np[:,f], y_train_np, f)"
   ]
  }
 ],
 "metadata": {
  "kernelspec": {
   "display_name": "Python 3",
   "language": "python",
   "name": "python3"
  },
  "language_info": {
   "codemirror_mode": {
    "name": "ipython",
    "version": 3
   },
   "file_extension": ".py",
   "mimetype": "text/x-python",
   "name": "python",
   "nbconvert_exporter": "python",
   "pygments_lexer": "ipython3",
   "version": "3.10.12"
  },
  "orig_nbformat": 4
 },
 "nbformat": 4,
 "nbformat_minor": 2
}
