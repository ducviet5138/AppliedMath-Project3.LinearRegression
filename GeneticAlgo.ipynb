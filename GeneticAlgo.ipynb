{
 "cells": [
  {
   "cell_type": "code",
   "execution_count": 127,
   "metadata": {},
   "outputs": [],
   "source": [
    "import numpy as np\n",
    "import pandas as pd\n",
    "import math\n",
    "import sys"
   ]
  },
  {
   "cell_type": "markdown",
   "metadata": {},
   "source": [
    "- Default value:"
   ]
  },
  {
   "cell_type": "code",
   "execution_count": 128,
   "metadata": {},
   "outputs": [],
   "source": [
    "MAX_ELEMENT = 200\n",
    "SIZE_ELEMENT = 23\n",
    "MAX_DEPTH = 1500\n",
    "EXPONENT = 1\n",
    "\n",
    "sys.setrecursionlimit(10000)"
   ]
  },
  {
   "cell_type": "markdown",
   "metadata": {},
   "source": [
    "- Read data:"
   ]
  },
  {
   "cell_type": "code",
   "execution_count": 129,
   "metadata": {},
   "outputs": [],
   "source": [
    "train = pd.read_csv('train.csv')\n",
    "test = pd.read_csv('test.csv')\n",
    "\n",
    "X_train = train.iloc[:, :-1].to_numpy()\n",
    "y_train = train.iloc[:, -1].to_numpy()\n",
    "\n",
    "X_test = test.iloc[:, :-1].to_numpy()\n",
    "y_test = test.iloc[:, -1].to_numpy()"
   ]
  },
  {
   "cell_type": "markdown",
   "metadata": {},
   "source": [
    "- Fitness function:"
   ]
  },
  {
   "cell_type": "code",
   "execution_count": 130,
   "metadata": {},
   "outputs": [],
   "source": [
    "def find_weight(X, y):\n",
    "    return np.linalg.inv(X.T @ X) @ X.T @ y\n",
    "\n",
    "def calc_y_predict(X, w):\n",
    "    return np.sum(X * w.T, axis = 1)\n",
    "\n",
    "def MAE(y_predict, y):\n",
    "    return np.mean(np.abs(y_predict - y))\n",
    "\n",
    "def fitness_function(ind):\n",
    "    w = find_weight(X_train[:, ind] ** EXPONENT, y_train)\n",
    "    y_predict = calc_y_predict(X_test[:, ind] ** EXPONENT, w)\n",
    "    return MAE(y_predict, y_test) "
   ]
  },
  {
   "cell_type": "markdown",
   "metadata": {},
   "source": [
    "- Check if `child` already in `population`:"
   ]
  },
  {
   "cell_type": "code",
   "execution_count": 131,
   "metadata": {},
   "outputs": [],
   "source": [
    "def IsInAll(arr, element):\n",
    "    for x in arr:\n",
    "        if (np.array_equal(x, element)):\n",
    "            return True\n",
    "        \n",
    "    return False"
   ]
  },
  {
   "cell_type": "markdown",
   "metadata": {},
   "source": [
    "- Generate sample:"
   ]
  },
  {
   "cell_type": "code",
   "execution_count": 132,
   "metadata": {},
   "outputs": [],
   "source": [
    "def init():\n",
    "    with open(\"genetic.txt\", \"r\") as f:\n",
    "        state = np.fromstring(f.readline()[1:-1], dtype = np.int16, sep = \" \").astype(bool)\n",
    "\n",
    "    sample = [state]\n",
    "\n",
    "    while (len(sample) < MAX_ELEMENT):\n",
    "        child = np.random.randint(2, size=SIZE_ELEMENT).astype(bool)\n",
    "\n",
    "        if (not IsInAll(sample, child)):\n",
    "            sample.append(child)\n",
    "\n",
    "    sample.sort(key = fitness_function)\n",
    "\n",
    "    return sample"
   ]
  },
  {
   "cell_type": "markdown",
   "metadata": {},
   "source": [
    "- Genetic Algorithm:"
   ]
  },
  {
   "cell_type": "code",
   "execution_count": 133,
   "metadata": {},
   "outputs": [],
   "source": [
    "def GeneticAlgorithm(sample, index = 0):\n",
    "    if (index == MAX_DEPTH):\n",
    "        return\n",
    "    \n",
    "    with open(\"genetic.txt\", \"w\") as f:\n",
    "        state = sample[0].astype(np.int16)\n",
    "        f.write(np.array2string(state, separator = \" \"))\n",
    "    \n",
    "    if (index % 100 == 0):\n",
    "        print(\"Generation: \", index)\n",
    "        \n",
    "    next_generation = []\n",
    "\n",
    "    # 10% of the population are the elite\n",
    "    for i in range(0, math.ceil(0.1 * MAX_ELEMENT)):\n",
    "        next_generation.append(sample[i])\n",
    "\n",
    "    # Create 90% of the population by crossover\n",
    "    # 50% of the best population are the parents\n",
    "    for i in range(0, math.ceil(0.9 * MAX_ELEMENT)):\n",
    "        parent1 = sample[np.random.randint(0, 0.5 * MAX_ELEMENT)]\n",
    "        parent2 = sample[np.random.randint(0, 0.5 * MAX_ELEMENT)]\n",
    "\n",
    "        # Crossover\n",
    "        child = np.zeros_like(parent1)\n",
    "\n",
    "        for x in range(0, len(child)):\n",
    "            rate = np.random.rand()\n",
    "\n",
    "            if (rate < 0.45):\n",
    "                child[x] = parent1[x]\n",
    "            elif (rate < 0.9):\n",
    "                child[x] = parent2[x]\n",
    "            else:\n",
    "                child[x] = np.random.randint(0, 2)\n",
    "\n",
    "        # Add child to the next generation\n",
    "        #if (not IsInAll(next_generation, child)):\n",
    "        #    next_generation.append(child)\n",
    "\n",
    "    # If the population is not enough\n",
    "    while (len(next_generation) < MAX_ELEMENT):\n",
    "        isInArr = False\n",
    "        child = np.random.randint(2, size=SIZE_ELEMENT).astype(bool)\n",
    "\n",
    "        if (not IsInAll(next_generation, child)):\n",
    "            next_generation.append(child)\n",
    "    \n",
    "    # Sort the population by fitness function\n",
    "    sample = sorted(sample[:MAX_ELEMENT], key = fitness_function)\n",
    "    \n",
    "    GeneticAlgorithm(next_generation, index + 1)"
   ]
  },
  {
   "cell_type": "code",
   "execution_count": 134,
   "metadata": {},
   "outputs": [],
   "source": [
    "#sample = init()\n",
    "#GeneticAlgorithm(sample)\n",
    "#print(\"Best solution: \", sample[0])\n",
    "#print(\"MAE: \", fitness_function(sample[0]))"
   ]
  },
  {
   "cell_type": "code",
   "execution_count": 135,
   "metadata": {},
   "outputs": [
    {
     "name": "stdout",
     "output_type": "stream",
     "text": [
      "103903.30244282905\n",
      "19\n"
     ]
    }
   ],
   "source": [
    "model2 = [\"Gender\", \"CollegeTier\", \"Degree\", \"CollegeCityTier\",\"CivilEngg\"]\n",
    "model2 = [\"10percentage\", \"12percentage\", \"collegeGPA\", \"English\", \"Logical\", \"Quant\", \"Domain\", \"ComputerProgramming\", \"ElectronicsAndSemicon\", \"ComputerScience\", \"MechanicalEngg\", \"ElectricalEngg\", \"TelecomEngg\", \"CivilEngg\", \"conscientiousness\", \"agreeableness\", \"extraversion\", \"nueroticism\", \"openess_to_experience\"]\n",
    "X = train.loc[:, model2].to_numpy()\n",
    "w = find_weight(X ** EXPONENT, y_train)\n",
    "y_predict = calc_y_predict(test.loc[:, model2].to_numpy() ** EXPONENT, w)\n",
    "print(MAE(y_predict, y_test))\n",
    "print(len(model2))"
   ]
  }
 ],
 "metadata": {
  "kernelspec": {
   "display_name": "base",
   "language": "python",
   "name": "python3"
  },
  "language_info": {
   "codemirror_mode": {
    "name": "ipython",
    "version": 3
   },
   "file_extension": ".py",
   "mimetype": "text/x-python",
   "name": "python",
   "nbconvert_exporter": "python",
   "pygments_lexer": "ipython3",
   "version": "3.10.12"
  },
  "orig_nbformat": 4
 },
 "nbformat": 4,
 "nbformat_minor": 2
}
