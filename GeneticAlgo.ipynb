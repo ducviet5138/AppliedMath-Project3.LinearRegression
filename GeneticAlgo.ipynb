{
 "cells": [
  {
   "cell_type": "code",
   "execution_count": 149,
   "metadata": {},
   "outputs": [],
   "source": [
    "import numpy as np\n",
    "import pandas as pd\n",
    "import math\n",
    "import sys"
   ]
  },
  {
   "cell_type": "markdown",
   "metadata": {},
   "source": [
    "- Default value:"
   ]
  },
  {
   "cell_type": "code",
   "execution_count": 150,
   "metadata": {},
   "outputs": [],
   "source": [
    "MAX_ELEMENT = 200\n",
    "SIZE_ELEMENT = 23\n",
    "MAX_DEPTH = 1000\n",
    "EXPONENT = 2\n",
    "\n",
    "sys.setrecursionlimit(10000)"
   ]
  },
  {
   "cell_type": "markdown",
   "metadata": {},
   "source": [
    "- Read data:"
   ]
  },
  {
   "cell_type": "code",
   "execution_count": 151,
   "metadata": {},
   "outputs": [],
   "source": [
    "train = pd.read_csv('train.csv')\n",
    "test = pd.read_csv('test.csv')\n",
    "\n",
    "X_train = train.iloc[:, :-1].to_numpy()\n",
    "y_train = train.iloc[:, -1].to_numpy()\n",
    "\n",
    "X_test = test.iloc[:, :-1].to_numpy()\n",
    "y_test = test.iloc[:, -1].to_numpy()"
   ]
  },
  {
   "cell_type": "markdown",
   "metadata": {},
   "source": [
    "- Fitness function:"
   ]
  },
  {
   "cell_type": "code",
   "execution_count": 152,
   "metadata": {},
   "outputs": [],
   "source": [
    "def find_weight(X, y):\n",
    "    return np.linalg.inv(X.T @ X) @ X.T @ y\n",
    "\n",
    "def calc_y_predict(X, w):\n",
    "    return np.sum(X * w.T, axis = 1)\n",
    "\n",
    "def MAE(y_predict, y):\n",
    "    return np.mean(np.abs(y_predict - y))\n",
    "\n",
    "def fitness_function(ind):\n",
    "    w = find_weight(X_train[:, ind] ** EXPONENT, y_train)\n",
    "    y_predict = calc_y_predict(X_test[:, ind] ** EXPONENT, w)\n",
    "    return MAE(y_predict, y_test) "
   ]
  },
  {
   "cell_type": "markdown",
   "metadata": {},
   "source": [
    "- Generate sample:"
   ]
  },
  {
   "cell_type": "code",
   "execution_count": 153,
   "metadata": {},
   "outputs": [],
   "source": [
    "sample = []\n",
    "\n",
    "for _ in range(MAX_ELEMENT):\n",
    "    sample.append(np.random.randint(2, size=SIZE_ELEMENT).astype(bool))\n",
    "\n",
    "sample.sort(key = fitness_function)"
   ]
  },
  {
   "cell_type": "markdown",
   "metadata": {},
   "source": [
    "- Genetic Algorithm:"
   ]
  },
  {
   "cell_type": "code",
   "execution_count": 154,
   "metadata": {},
   "outputs": [],
   "source": [
    "def GeneticAlgorithm(sample, index = 0):\n",
    "    if (index == MAX_DEPTH):\n",
    "        return\n",
    "    \n",
    "    if (index % 100 == 0):\n",
    "        print(\"Generation: \", index)\n",
    "        \n",
    "    next_generation = []\n",
    "\n",
    "    # 10% of the population are the elite\n",
    "    for i in range(0, math.ceil(0.1 * MAX_ELEMENT)):\n",
    "        next_generation.append(sample[i])\n",
    "\n",
    "    # Create 90% of the population by crossover\n",
    "    # 50% of the best population are the parents\n",
    "    for i in range(0, math.ceil(0.9 * MAX_ELEMENT)):\n",
    "        parent1 = sample[np.random.randint(0, 0.5 * MAX_ELEMENT)]\n",
    "        parent2 = sample[np.random.randint(0, 0.5 * MAX_ELEMENT)]\n",
    "\n",
    "        # Crossover\n",
    "        child = np.zeros_like(parent1)\n",
    "\n",
    "        for x in range(0, len(child)):\n",
    "            rate = np.random.rand()\n",
    "\n",
    "            if (rate < 0.45):\n",
    "                child[x] = parent1[x]\n",
    "            elif (rate < 0.9):\n",
    "                child[x] = parent2[x]\n",
    "            else:\n",
    "                child[x] = np.random.randint(0, 2)\n",
    "\n",
    "        # Add child to the next generation\n",
    "        next_generation.append(child)\n",
    "\n",
    "    sample = sorted(sample[:MAX_ELEMENT], key = fitness_function)\n",
    "    \n",
    "    GeneticAlgorithm(next_generation, index + 1)"
   ]
  },
  {
   "cell_type": "code",
   "execution_count": 155,
   "metadata": {},
   "outputs": [
    {
     "name": "stdout",
     "output_type": "stream",
     "text": [
      "Generation:  0\n",
      "Generation:  100\n",
      "Generation:  200\n",
      "Generation:  300\n",
      "Generation:  400\n",
      "Generation:  500\n",
      "Generation:  600\n",
      "Generation:  700\n",
      "Generation:  800\n",
      "Generation:  900\n",
      "[False  True  True  True False False  True False False  True  True  True\n",
      " False  True  True  True False False  True  True  True  True False]\n",
      "99767.23780796444\n"
     ]
    }
   ],
   "source": [
    "GeneticAlgorithm(sample)\n",
    "print(sample[0])\n",
    "print(fitness_function(sample[0]))"
   ]
  }
 ],
 "metadata": {
  "kernelspec": {
   "display_name": "base",
   "language": "python",
   "name": "python3"
  },
  "language_info": {
   "codemirror_mode": {
    "name": "ipython",
    "version": 3
   },
   "file_extension": ".py",
   "mimetype": "text/x-python",
   "name": "python",
   "nbconvert_exporter": "python",
   "pygments_lexer": "ipython3",
   "version": "3.10.12"
  },
  "orig_nbformat": 4
 },
 "nbformat": 4,
 "nbformat_minor": 2
}
