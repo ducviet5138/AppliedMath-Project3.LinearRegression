{
 "cells": [
  {
   "cell_type": "markdown",
   "metadata": {},
   "source": [
    "# <center>Đồ án 3: Linear Regression</center>"
   ]
  },
  {
   "cell_type": "markdown",
   "metadata": {},
   "source": [
    "# Thông tin sinh viên\n",
    "\n",
    "- Họ và tên: Hoàng Đức Việt\n",
    "- MSSV: 21127203\n",
    "- Lớp: 21CLC02"
   ]
  },
  {
   "cell_type": "markdown",
   "metadata": {},
   "source": [
    "# Import"
   ]
  },
  {
   "cell_type": "code",
   "execution_count": 21,
   "metadata": {},
   "outputs": [],
   "source": [
    "import pandas as pd\n",
    "import numpy as np\n",
    "\n",
    "# Import thêm dữ thư viện nếu cần"
   ]
  },
  {
   "cell_type": "markdown",
   "metadata": {},
   "source": [
    "# Đọc dữ liệu"
   ]
  },
  {
   "cell_type": "code",
   "execution_count": 22,
   "metadata": {},
   "outputs": [],
   "source": [
    "# Đọc dữ liệu bằng pandas\n",
    "train = pd.read_csv('train.csv')\n",
    "test = pd.read_csv('test.csv')\n",
    "\n",
    "# Lấy các đặc trưng X và giá trị mục tiêu y cho các tập huấn luyện (train) và kiểm tra (test)\n",
    "X_train = train.iloc[:, :-1]    # Dataframe (chứa các đặc trưng huấn luyện)\n",
    "y_train = train.iloc[:, -1]     # Series    (chứa 1 giá trị mục tiêu kiểm tra)\n",
    "\n",
    "X_test = test.iloc[:, :-1]      # Dataframe (chứa các đặc trưng kiểm tra)\n",
    "y_test = test.iloc[:, -1]       # Series    (chứa 1 giá trị mục tiêu kiểm tra)\n",
    "\n",
    "# Sinh viên có thể sử dụng các khác nếu cần"
   ]
  },
  {
   "cell_type": "markdown",
   "metadata": {},
   "source": [
    "- Chuyển dữ liệu thành `numpy array`:"
   ]
  },
  {
   "cell_type": "code",
   "execution_count": 23,
   "metadata": {},
   "outputs": [],
   "source": [
    "X_train_np = X_train.to_numpy()\n",
    "y_train_np = y_train.to_numpy()\n",
    "\n",
    "X_test_np = X_test.to_numpy()\n",
    "y_test_np = y_test.to_numpy()"
   ]
  },
  {
   "cell_type": "markdown",
   "metadata": {},
   "source": [
    "# Cài đặt hàm"
   ]
  },
  {
   "cell_type": "code",
   "execution_count": 24,
   "metadata": {},
   "outputs": [],
   "source": [
    "# Cài đặt các hàm cần thiết ở đây\n",
    "\n",
    "# Tìm giá trọng số của w\n",
    "def find_weight(X, y):\n",
    "    return np.round(np.linalg.inv(X.T @ X) @ X.T @ y, 3)\n",
    "\n",
    "# Tính giá trị dự đoán của y\n",
    "def calc_y_predict(X, w):\n",
    "    return np.sum(X * w.T, axis = 1)\n",
    "    \n",
    "# Tính độ lỗi MAE giữa các giá trị dự đoán và giá trị thực tế\n",
    "def MAE(y_predict, y_real):\n",
    "    return np.mean(np.abs(y_predict - y_real))\n",
    "\n",
    "def create_result_table(feature, MAE, column_name):\n",
    "    return pd.DataFrame(zip(feature, MAE), columns = column_name)"
   ]
  },
  {
   "cell_type": "markdown",
   "metadata": {},
   "source": [
    "- Tìm mô hình tốt nhất:"
   ]
  },
  {
   "cell_type": "code",
   "execution_count": 25,
   "metadata": {},
   "outputs": [],
   "source": [
    "# Tìm mô hình tốt nhất \n",
    "# table là dataframe\n",
    "def find_best_model(table, feature, clusters = 10):\n",
    "    # Lấy thêm cột 'Salary' để giữ giá trị y khi xáo trộn\n",
    "    feature.append(\"Salary\")\n",
    "\n",
    "    # Lấy bảng dữ liệu sau khi được xáo trộn các dòng\n",
    "    table_np = table.loc[:, feature].sample(frac = 1).to_numpy()\n",
    "    \n",
    "    # Xóa 'Salary' ra khỏi các đặc trưng\n",
    "    feature.remove(\"Salary\")\n",
    "\n",
    "    # Chia bảng dữ liệu thành các nhóm\n",
    "    table_cluster = np.array_split(table_np, clusters)\n",
    "\n",
    "    # Tìm min MAE trung bình của mỗi nhóm\n",
    "    MAE_avg = np.zeros(len(feature))\n",
    "\n",
    "    for c in range(clusters):\n",
    "        for f in range(len(feature)):\n",
    "            w_temporary = find_weight(table_cluster[c][:, f, None], table_cluster[c][:, -1, None])\n",
    "\n",
    "            for i in range(clusters):\n",
    "                if (c != i):\n",
    "                    MAE_avg[f] += MAE(calc_y_predict(table_cluster[i][:, f, None], w_temporary), table_cluster[i][:, -1])\n",
    "\n",
    "    MAE_avg /= clusters * (clusters - 1)\n",
    "    return np.argmin(MAE_avg), MAE_avg"
   ]
  },
  {
   "cell_type": "markdown",
   "metadata": {},
   "source": [
    "# Yêu cầu 1a: Sử dụng toàn bộ 11 đặc trưng đầu tiên `Gender`, `10percentage`, `12percentage`, `CollegeTier`, `Degree`, `collegeGPA`, `CollegeCityTier`, `English`, `Logical`, `Quant`, `Domain` (2 điểm) "
   ]
  },
  {
   "cell_type": "code",
   "execution_count": 26,
   "metadata": {},
   "outputs": [],
   "source": [
    "# Phần code cho yêu cầu 1a\n",
    "X_train_1a = X_train_np[:, :11]\n",
    "w = find_weight(X_train_1a, y_train_np)"
   ]
  },
  {
   "cell_type": "code",
   "execution_count": 27,
   "metadata": {},
   "outputs": [
    {
     "name": "stdout",
     "output_type": "stream",
     "text": [
      "Weight: [-22756.513    804.503   1294.655 -91781.898  23182.389   1437.549\n",
      "  -8570.662    147.858    152.888    117.222  34552.286]\n",
      "MAE: 104863.71390646267\n"
     ]
    }
   ],
   "source": [
    "# Gọi hàm MAE (tự cài đặt hoặc từ thư viện) trên tập kiểm tra\n",
    "X_test_1a = X_test_np[:, :11]\n",
    "y_predict = calc_y_predict(X_test_1a, w)\n",
    "print(\"Weight:\", w)\n",
    "print(\"MAE:\", MAE(y_predict, y_test))"
   ]
  },
  {
   "cell_type": "markdown",
   "metadata": {},
   "source": [
    "Công thức hồi quy (phần trọng số làm tròn đến 3 chữ số thập phân, ví dụ 0.012345 $\\to$ 0.012)\n",
    "\n",
    "\n",
    "\\begin{aligned}\n",
    "\\text{Salary} = & -22756.513 \\times Gender &+& 804.503 \\times 10percentage &+& 1294.655 \\times 12percentage \\\\\n",
    "                & + -91781.898 \\times CollegeTier &+& 23182.389 \\times Degree &+& 1437.549 \\times collegeGPA \\\\\n",
    "                & + -8570.662 \\times CollegeCityTier &+& 147.858 \\times English &+& 152.888 \\times Logical \\\\\n",
    "                & + 117.222 \\times Quant &+& 34552.286 \\times Domain\n",
    "\\end{aligned}"
   ]
  },
  {
   "cell_type": "markdown",
   "metadata": {},
   "source": [
    "# Yêu cầu 1b: Xây dựng mô hình sử dụng duy nhất 1 đặc trưng tính cách với các đặc trưng tính cách gồm `conscientiousness`, `agreeableness`, `extraversion`, `nueroticism`, `openess_to_experience`, tìm mô hình cho kết quả tốt nhất (1 điểm)"
   ]
  },
  {
   "cell_type": "markdown",
   "metadata": {},
   "source": [
    "Lưu ý: khi sử dụng cross-validation, sinh viên cần xáo trộn dữ liệu 1 lần duy nhất và thực hiện trên toàn bộ đặc trưng"
   ]
  },
  {
   "cell_type": "code",
   "execution_count": 28,
   "metadata": {},
   "outputs": [
    {
     "name": "stdout",
     "output_type": "stream",
     "text": [
      "                 Feature    MAE Average\n",
      "0      conscientiousness  306744.380974\n",
      "1          agreeableness  300658.964486\n",
      "2           extraversion  306997.207427\n",
      "3            nueroticism  299460.994996\n",
      "4  openess_to_experience  303200.492350\n",
      "Best feature: nueroticism\n"
     ]
    }
   ],
   "source": [
    "# Phần code cho yêu cầu 1b\n",
    "# Tìm ra đặc trưng tốt nhất\n",
    "# In ra các kết quả cross-validation như yêu cầu\n",
    "\n",
    "feature = [\"conscientiousness\", \"agreeableness\", \"extraversion\", \"nueroticism\", \"openess_to_experience\"]\n",
    "\n",
    "best_personality_feature_index, MAE_avg = find_best_model(train, feature)\n",
    "best_personality_feature = feature[best_personality_feature_index]\n",
    "\n",
    "print(create_result_table(feature, MAE_avg, [\"Feature\", \"MAE Average\"]))\n",
    "print(\"Best feature:\", best_personality_feature)"
   ]
  },
  {
   "cell_type": "code",
   "execution_count": 29,
   "metadata": {},
   "outputs": [],
   "source": [
    "# Huấn luyện lại mô hình best_personality_feature_model với đặc trưng tốt nhất trên toàn bộ tập huấn luyện\n",
    "def best_personality_feature_model(table, best_personality_feature):\n",
    "    X = table.loc[:, best_personality_feature].to_numpy()\n",
    "    y = table.iloc[:, -1].to_numpy()\n",
    "    return find_weight(X[:, None], y[:, None])"
   ]
  },
  {
   "cell_type": "code",
   "execution_count": 30,
   "metadata": {},
   "outputs": [
    {
     "name": "stdout",
     "output_type": "stream",
     "text": [
      "Weight: [[-56546.304]]\n",
      "MAE: 291019.6931941854\n"
     ]
    }
   ],
   "source": [
    "# Gọi hàm MAE (tự cài đặt hoặc từ thư viện) trên tập kiểm tra với mô hình best_personality_feature_model\n",
    "w = best_personality_feature_model(train, best_personality_feature)\n",
    "y_predict = calc_y_predict(test.loc[:, best_personality_feature].to_numpy()[:, None], w)\n",
    "print(\"Weight:\", w)\n",
    "print(\"MAE:\", MAE(y_predict, y_test_np))"
   ]
  },
  {
   "cell_type": "markdown",
   "metadata": {},
   "source": [
    "Công thức hồi quy (phần trọng số làm tròn đến 3 chữ số thập phân, ví dụ 0.012345 $\\to$ 0.012)\n",
    "\n",
    "$$\\text{Salary} = -56546.304 \\times nueroticism$$"
   ]
  },
  {
   "cell_type": "markdown",
   "metadata": {},
   "source": [
    "# Yêu cầu 1c: Xây dựng mô hình sử dụng duy nhất 1 đặc trưng `English`, `Logical`, `Quant`, tìm mô hình cho kết quả tốt nhất (1 điểm)"
   ]
  },
  {
   "cell_type": "markdown",
   "metadata": {},
   "source": [
    "Lưu ý: khi sử dụng cross-validation, sinh viên cần xáo trộn dữ liệu 1 lần duy nhất và thực hiện trên toàn bộ đặc trưng"
   ]
  },
  {
   "cell_type": "code",
   "execution_count": 31,
   "metadata": {},
   "outputs": [
    {
     "name": "stdout",
     "output_type": "stream",
     "text": [
      "   Feature    MAE Average\n",
      "0  English  122701.902788\n",
      "1  Logical  121256.765978\n",
      "2    Quant  118994.415870\n",
      "Best feature: Quant\n"
     ]
    }
   ],
   "source": [
    "# Phần code cho yêu cầu 1c\n",
    "# Tìm ra đặc trưng tốt nhất\n",
    "# In ra các kết quả cross-validation như yêu cầu\n",
    "\n",
    "feature = [\"English\", \"Logical\", \"Quant\"]\n",
    "\n",
    "best_personality_feature_index, MAE_avg = find_best_model(train, feature)\n",
    "best_personality_feature = feature[best_personality_feature_index]\n",
    "\n",
    "print(create_result_table(feature, MAE_avg, [\"Feature\", \"MAE Average\"]))\n",
    "print(\"Best feature:\", best_personality_feature)"
   ]
  },
  {
   "cell_type": "code",
   "execution_count": 32,
   "metadata": {},
   "outputs": [],
   "source": [
    "# Huấn luyện lại mô hình best_skill_feature_model với đặc trưng tốt nhất trên toàn bộ tập huấn luyện\n",
    "def best_skill_feature_model(table, best_personality_feature):\n",
    "    X = table.loc[:, best_personality_feature].to_numpy()\n",
    "    y = table.iloc[:, -1].to_numpy()\n",
    "    return find_weight(X[:, None], y[:, None])"
   ]
  },
  {
   "cell_type": "code",
   "execution_count": 33,
   "metadata": {},
   "outputs": [
    {
     "name": "stdout",
     "output_type": "stream",
     "text": [
      "Weight: [[585.895]]\n",
      "MAE: 106819.53989333333\n"
     ]
    }
   ],
   "source": [
    "# Gọi hàm MAE (tự cài đặt hoặc từ thư viện) trên tập kiểm tra với mô hình best_skill_feature_model\n",
    "w = best_personality_feature_model(train, best_personality_feature)\n",
    "y_predict = calc_y_predict(test.loc[:, best_personality_feature].to_numpy()[:, None], w)\n",
    "print(\"Weight:\", w)\n",
    "print(\"MAE:\", MAE(y_predict, y_test_np))"
   ]
  },
  {
   "cell_type": "markdown",
   "metadata": {},
   "source": [
    "Công thức hồi quy (phần trọng số làm tròn đến 3 chữ số thập phân, ví dụ 0.012345 $\\to$ 0.012)\n",
    "\n",
    "$$\\text{Salary} = 585.895 \\times Quant$$"
   ]
  },
  {
   "cell_type": "markdown",
   "metadata": {},
   "source": [
    "# Yêu cầu 1d: Sinh viên tự xây dựng mô hình, tìm mô hình cho kết quả tốt nhất (3 điểm)"
   ]
  },
  {
   "cell_type": "markdown",
   "metadata": {},
   "source": [
    "Lưu ý: khi sử dụng cross-validation, sinh viên cần xáo trộn dữ liệu 1 lần duy nhất và thực hiện trên toàn bộ $m$ mô hình mà sinh viên thiết kế"
   ]
  },
  {
   "cell_type": "markdown",
   "metadata": {},
   "source": [
    "## Tìm mô hình"
   ]
  },
  {
   "cell_type": "code",
   "execution_count": 34,
   "metadata": {},
   "outputs": [],
   "source": [
    "# Trình bày các phần tìm ra mô hình\n",
    "\n",
    "exponent = 2\n",
    "\n",
    "# Mô hình 1: Brute Force với mũ là 2\n",
    "model1 = [\"10percentage\", \"12percentage\", \"CollegeTier\", \"collegeGPA\", \"CollegeCityTier\", \"Quant\", \"Domain\", \"ComputerProgramming\", \"ElectronicsAndSemicon\", \"ComputerScience\", \"ElectricalEngg\", \"CivilEngg\", \"conscientiousness\", \"extraversion\", \"nueroticism\", \"openess_to_experience\"]\n",
    "\n",
    "# Mô hình 2: Lấy các đặc trưng sao cho các giá trị của từng đặc trưng là dàn trải\n",
    "# Ví dụ: Bỏ qua 'Gender' vì đặc trưng này chỉ có 2 giá trị\n",
    "model2 = [\"10percentage\", \"12percentage\", \"collegeGPA\", \"English\", \"Logical\", \"Quant\", \"Domain\", \"ComputerProgramming\", \"ElectronicsAndSemicon\", \"ComputerScience\", \"MechanicalEngg\", \"ElectricalEngg\", \"TelecomEngg\", \"CivilEngg\", \"conscientiousness\", \"agreeableness\", \"extraversion\", \"nueroticism\", \"openess_to_experience\"]\n",
    "\n",
    "# Mô hình 3: Tương tự như mô hình 2 nhưng bỏ các đặc trưng không phân hóa rộng \n",
    "# Ví dụ: Bỏ 'CivilEng' vì đặc trưng này chỉ có giá trị 0 là nổi bật, \n",
    "#        còn các giá trị khác phân hóa không rộng\n",
    "model3 = [\"10percentage\", \"12percentage\", \"collegeGPA\", \"English\", \"Logical\", \"Quant\", \"conscientiousness\", \"agreeableness\", \"extraversion\", \"nueroticism\", \"openess_to_experience\"]\\\n",
    "\n",
    "# Thêm các mô hình vào mảng 'model'\n",
    "model = [model1, model2, model3]"
   ]
  },
  {
   "cell_type": "markdown",
   "metadata": {},
   "source": [
    "## Thử nghiệm, so sánh các mô hình"
   ]
  },
  {
   "cell_type": "markdown",
   "metadata": {},
   "source": [
    "- Tạo ra mảng mask gồm các giá trị True/False để xử lí trên numpy.array:"
   ]
  },
  {
   "cell_type": "code",
   "execution_count": 35,
   "metadata": {},
   "outputs": [],
   "source": [
    "def get_masked_array(table, feature):\n",
    "    column_name = list(table.columns)\n",
    "    return np.array([1 if c in feature else 0 for c in column_name], dtype = bool)"
   ]
  },
  {
   "cell_type": "code",
   "execution_count": 36,
   "metadata": {},
   "outputs": [],
   "source": [
    "# Cập nhật các model thành masked array\n",
    "\n",
    "for i in range(len(model)):\n",
    "    model[i] = get_masked_array(train, model[i])"
   ]
  },
  {
   "cell_type": "code",
   "execution_count": 37,
   "metadata": {},
   "outputs": [],
   "source": [
    "# Phần code cho yêu cầu 1d\n",
    "# Tìm ra mô hình tốt nhất (tự thiết kế bởi sinh viên)\n",
    "# In ra các kết quả cross-validation như yêu cầu\n",
    "\n",
    "def find_best_model_1d(table, model, clusters = 10, exponent = 2):\n",
    "    # Lấy bảng dữ liệu sau khi được chia thành các nhóm\n",
    "    table_np = table.sample(frac = 1).to_numpy()\n",
    "    table_cluster = np.array_split(table_np, clusters)\n",
    "\n",
    "    # Khai báo mảng MAE trung bình\n",
    "    MAE_avg = np.zeros(len(model))\n",
    "\n",
    "    # Tính MAE trung bình cho mỗi mô hình\n",
    "    for c in range(clusters):\n",
    "        for m in range(len(model)):\n",
    "            w_temporary = find_weight(table_cluster[c][:, m, None] ** exponent, table_cluster[c][:, -1, None])\n",
    "\n",
    "            for i in range(clusters):\n",
    "                if (c != i):\n",
    "                    MAE_avg[m] += MAE(calc_y_predict(table_cluster[i][:, m, None] ** exponent, w_temporary), table_cluster[i][:, -1])\n",
    "\n",
    "    MAE_avg /= clusters * (clusters - 1)\n",
    "    return np.argmin(MAE_avg), MAE_avg"
   ]
  },
  {
   "cell_type": "code",
   "execution_count": 38,
   "metadata": {},
   "outputs": [
    {
     "name": "stdout",
     "output_type": "stream",
     "text": [
      "     Model            MAE\n",
      "0  Model 1  200854.243426\n",
      "1  Model 2  121868.114294\n",
      "2  Model 3  125646.245966\n"
     ]
    }
   ],
   "source": [
    "# Tìm ra mô hình tốt nhất\n",
    "best_model_index, MAE_avg = find_best_model_1d(train, model)\n",
    "print(create_result_table([\"Model 1\", \"Model 2\", \"Model 3\"], MAE_avg, [\"Model\", \"MAE\"]))"
   ]
  },
  {
   "cell_type": "code",
   "execution_count": 39,
   "metadata": {},
   "outputs": [],
   "source": [
    "# Huấn luyện lại mô hình my_best_model trên toàn bộ tập huấn luyện\n",
    "\n",
    "def my_best_model(table, model, exponent = 2):\n",
    "    X = table.iloc[:, model].to_numpy()\n",
    "    y = table.iloc[:, -1].to_numpy()\n",
    "    return find_weight(X ** exponent, y[:, None])"
   ]
  },
  {
   "cell_type": "code",
   "execution_count": 40,
   "metadata": {},
   "outputs": [
    {
     "name": "stdout",
     "output_type": "stream",
     "text": [
      "Weight: [[   155.539]\n",
      " [   815.713]\n",
      " [   289.421]\n",
      " [   138.827]\n",
      " [    80.259]\n",
      " [   160.23 ]\n",
      " [ 26769.152]\n",
      " [    79.349]\n",
      " [   -45.498]\n",
      " [  -178.591]\n",
      " [    48.354]\n",
      " [  -140.322]\n",
      " [   -67.954]\n",
      " [   135.797]\n",
      " [-21815.3  ]\n",
      " [ 18416.53 ]\n",
      " [  3705.96 ]\n",
      " [-13539.38 ]\n",
      " [ -6115.718]]\n",
      "MAE: 103903.34241398386\n"
     ]
    }
   ],
   "source": [
    "# Gọi hàm MAE (tự cài đặt hoặc từ thư viện) trên tập kiểm tra với mô hình my_best_model\n",
    "w = my_best_model(train, model[best_model_index])\n",
    "y_predict = calc_y_predict(test.iloc[:, model[best_model_index]].to_numpy() ** exponent, w)\n",
    "print(\"Weight:\", w)\n",
    "print(\"MAE:\", MAE(y_predict, y_test_np))"
   ]
  },
  {
   "cell_type": "markdown",
   "metadata": {},
   "source": [
    "Công thức hồi quy (phần trọng số làm tròn đến 3 chữ số thập phân, ví dụ 0.012345 $\\to$ 0.012)\n",
    "\n",
    "\\begin{aligned}\n",
    "\\text{Salary} \n",
    "&=& 155.539 \\times 10percentage &+& 815.713 \\times 12percentage &+& 289.421 \\times collegeGPA \\\\\n",
    "&+& 138.827 \\times English &+& 80.259 \\times Logical &+& 160.23 \\times Quant \\\\\n",
    "&+& 26769.152 \\times Domain &+& 79.349 \\times ComputerProgramming &+& -45.498 \\times ElectronicsAndSemicon \\\\\n",
    "&+& -178.591 \\times ComputerScience &+& 48.354 \\times MechanicalEngg &+& -140.322 \\times ElectricalEngg \\\\\n",
    "&+& -67.954 \\times TelecomEngg &+& 135.797 \\times CivilEngg &+& -21815.3 \\times conscientiousness \\\\\n",
    "&+& 18416.53 \\times agreeableness &+& 3705.96 \\times extraversion &+& -13539.38 \\times nueroticism \\\\\n",
    "&+& -6115.718 \\times openess\\_to\\_experience\n",
    "\\end{aligned}"
   ]
  }
 ],
 "metadata": {
  "kernelspec": {
   "display_name": "Python 3 (ipykernel)",
   "language": "python",
   "name": "python3"
  },
  "language_info": {
   "codemirror_mode": {
    "name": "ipython",
    "version": 3
   },
   "file_extension": ".py",
   "mimetype": "text/x-python",
   "name": "python",
   "nbconvert_exporter": "python",
   "pygments_lexer": "ipython3",
   "version": "3.10.12"
  },
  "orig_nbformat": 4,
  "vscode": {
   "interpreter": {
    "hash": "15af99fd1a1a3f0a3416ea421564e792a8676a13670c2eed127d89ab0518a27b"
   }
  }
 },
 "nbformat": 4,
 "nbformat_minor": 2
}
